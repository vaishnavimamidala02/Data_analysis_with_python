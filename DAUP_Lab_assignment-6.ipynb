{
  "nbformat": 4,
  "nbformat_minor": 0,
  "metadata": {
    "colab": {
      "provenance": []
    },
    "kernelspec": {
      "name": "python3",
      "display_name": "Python 3"
    },
    "language_info": {
      "name": "python"
    }
  },
  "cells": [
    {
      "cell_type": "code",
      "execution_count": 2,
      "metadata": {
        "colab": {
          "base_uri": "https://localhost:8080/"
        },
        "id": "jw1jBl94c8VL",
        "outputId": "cbfb3f98-92c5-4375-ca6e-1bf7c453d0ad"
      },
      "outputs": [
        {
          "output_type": "stream",
          "name": "stdout",
          "text": [
            "P(A): 0.501\n",
            "P(B): 0.311\n",
            "P(C): 0.152\n",
            "P(D): 0.34\n",
            "P(A ∩ B): 0.172\n",
            "P(A ∩ C): 0.073\n",
            "P(A ∩ D): 0.167\n",
            "P(B ∩ C): 0.05\n",
            "P(B ∩ D): 0.104\n",
            "P(C ∩ D): 0.047\n",
            "P(A ∪ B): 0.6400000000000001\n",
            "P(A ∪ C): 0.5800000000000001\n",
            "P(A ∪ D): 0.6739999999999999\n",
            "P(B ∪ C): 0.413\n",
            "P(B ∪ D): 0.547\n",
            "P(C ∪ D): 0.445\n",
            "Ways to arrange 5 transactions from 20: 1860480\n",
            "Ways to select 3 product lines from 6: 20\n",
            "Factorial of branches: 6\n",
            "Ways to select 4 payment methods from 3: 0\n",
            "Ways to select 5 employees from 15: 3003\n",
            "Ways to create invoice codes with 6 letters: 165765600\n"
          ]
        }
      ],
      "source": [
        "import pandas as pd\n",
        "from math import factorial\n",
        "\n",
        "df = pd.read_csv(\"/content/supermarket_sales -.csv\")\n",
        "\n",
        "# Total transactions\n",
        "total_transactions = len(df)\n",
        "\n",
        "# Probability calculations\n",
        "p_A = len(df[df[\"Customer type\"] == \"Member\"]) / total_transactions  # P(A)\n",
        "p_B = len(df[df[\"Payment\"] == \"Credit card\"]) / total_transactions  # P(B)\n",
        "p_C = len(df[df[\"Product line\"] == \"Health and beauty\"]) / total_transactions  # P(C)\n",
        "p_D = len(df[df[\"City\"] == \"Yangon\"]) / total_transactions  # P(D)\n",
        "\n",
        "p_A_and_B = len(df[(df[\"Customer type\"] == \"Member\") & (df[\"Payment\"] == \"Credit card\")]) / total_transactions  # P(A ∩ B)\n",
        "p_A_and_C = len(df[(df[\"Customer type\"] == \"Member\") & (df[\"Product line\"] == \"Health and beauty\")]) / total_transactions  # P(A ∩ C)\n",
        "p_A_and_D = len(df[(df[\"Customer type\"] == \"Member\") & (df[\"City\"] == \"Yangon\")]) / total_transactions  # P(A ∩ D)\n",
        "p_B_and_C = len(df[(df[\"Payment\"] == \"Credit card\") & (df[\"Product line\"] == \"Health and beauty\")]) / total_transactions  # P(B ∩ C)\n",
        "p_B_and_D = len(df[(df[\"Payment\"] == \"Credit card\") & (df[\"City\"] == \"Yangon\")]) / total_transactions  # P(B ∩ D)\n",
        "p_C_and_D = len(df[(df[\"Product line\"] == \"Health and beauty\") & (df[\"City\"] == \"Yangon\")]) / total_transactions  # P(C ∩ D)\n",
        "\n",
        "p_A_union_B = p_A + p_B - p_A_and_B  # P(A ∪ B)\n",
        "p_A_union_C = p_A + p_C - p_A_and_C  # P(A ∪ C)\n",
        "p_A_union_D = p_A + p_D - p_A_and_D  # P(A ∪ D)\n",
        "p_B_union_C = p_B + p_C - p_B_and_C  # P(B ∪ C)\n",
        "p_B_union_D = p_B + p_D - p_B_and_D  # P(B ∪ D)\n",
        "p_C_union_D = p_C + p_D - p_C_and_D  # P(C ∪ D)\n",
        "\n",
        "# Factorial function\n",
        "def compute_factorial(n):\n",
        "    return factorial(n)\n",
        "\n",
        "# Permutation function\n",
        "def compute_permutation(n, r):\n",
        "    return factorial(n) // factorial(n - r)\n",
        "\n",
        "# Combination function\n",
        "def compute_combination(n, r):\n",
        "    return factorial(n) // (factorial(r) * factorial(n - r))\n",
        "\n",
        "# Task 2 calculations\n",
        "ways_to_arrange_transactions = compute_permutation(20, 5)  # Arrange 5 transactions from 20\n",
        "ways_to_select_product_lines = compute_combination(6, 3)  # Select 3 product lines from 6\n",
        "factorial_branches = compute_factorial(df[\"Branch\"].nunique())  # Factorial of branch count\n",
        "ways_to_select_payment_methods = compute_combination(3, 4) if 3 >= 4 else 0  # Selecting 4 payment methods from 3\n",
        "ways_to_select_employees = compute_combination(15, 5)  # Selecting 5 employees from 15\n",
        "ways_to_create_invoice_codes = compute_permutation(26, 6)  # Unique invoice codes using 6 letters\n",
        "\n",
        "# Display results\n",
        "print(\"P(A):\", p_A)\n",
        "print(\"P(B):\", p_B)\n",
        "print(\"P(C):\", p_C)\n",
        "print(\"P(D):\", p_D)\n",
        "print(\"P(A ∩ B):\", p_A_and_B)\n",
        "print(\"P(A ∩ C):\", p_A_and_C)\n",
        "print(\"P(A ∩ D):\", p_A_and_D)\n",
        "print(\"P(B ∩ C):\", p_B_and_C)\n",
        "print(\"P(B ∩ D):\", p_B_and_D)\n",
        "print(\"P(C ∩ D):\", p_C_and_D)\n",
        "print(\"P(A ∪ B):\", p_A_union_B)\n",
        "print(\"P(A ∪ C):\", p_A_union_C)\n",
        "print(\"P(A ∪ D):\", p_A_union_D)\n",
        "print(\"P(B ∪ C):\", p_B_union_C)\n",
        "print(\"P(B ∪ D):\", p_B_union_D)\n",
        "print(\"P(C ∪ D):\", p_C_union_D)\n",
        "print(\"Ways to arrange 5 transactions from 20:\", ways_to_arrange_transactions)\n",
        "print(\"Ways to select 3 product lines from 6:\", ways_to_select_product_lines)\n",
        "print(\"Factorial of branches:\", factorial_branches)\n",
        "print(\"Ways to select 4 payment methods from 3:\", ways_to_select_payment_methods)\n",
        "print(\"Ways to select 5 employees from 15:\", ways_to_select_employees)\n",
        "print(\"Ways to create invoice codes with 6 letters:\", ways_to_create_invoice_codes)"
      ]
    }
  ]
}