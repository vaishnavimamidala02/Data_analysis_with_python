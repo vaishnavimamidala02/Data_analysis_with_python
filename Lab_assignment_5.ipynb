{
  "nbformat": 4,
  "nbformat_minor": 0,
  "metadata": {
    "colab": {
      "provenance": []
    },
    "kernelspec": {
      "name": "python3",
      "display_name": "Python 3"
    },
    "language_info": {
      "name": "python"
    }
  },
  "cells": [
    {
      "cell_type": "code",
      "execution_count": 1,
      "metadata": {
        "colab": {
          "base_uri": "https://localhost:8080/"
        },
        "id": "HSk_lL-gWdAL",
        "outputId": "e3d787e9-bc14-4a4d-d472-493cb38e1ce0"
      },
      "outputs": [
        {
          "output_type": "stream",
          "name": "stdout",
          "text": [
            "Summary Statistics:\n",
            "                       mean    median           std  skewness  kurtosis\n",
            "Balance       76485.889288  97198.54  62397.405202 -0.141088 -1.489267\n",
            "CreditScore     650.528800    652.00     96.653299 -0.071596 -0.426113\n",
            "Point Earned    606.515100    605.00    225.924839  0.008343 -1.193784\n",
            "\n",
            "Customer Distribution by Gender:\n",
            " Gender\n",
            "Male      54.57\n",
            "Female    45.43\n",
            "Name: proportion, dtype: float64\n",
            "\n",
            "Customer Distribution by Geography:\n",
            " Geography\n",
            "France     50.14\n",
            "Germany    25.09\n",
            "Spain      24.77\n",
            "Name: proportion, dtype: float64\n",
            "\n",
            "Customer Age Distribution:\n",
            " count    10000.000000\n",
            "mean        38.921800\n",
            "std         10.487806\n",
            "min         18.000000\n",
            "25%         32.000000\n",
            "50%         37.000000\n",
            "75%         44.000000\n",
            "max         92.000000\n",
            "Name: Age, dtype: float64\n",
            "\n",
            "Transaction Counts for Active Customers:\n",
            " min      206.000000\n",
            "max     1000.000000\n",
            "mean     605.422831\n",
            "Name: Point Earned, dtype: float64\n",
            "\n",
            "Transaction Counts for Inactive Customers:\n",
            " min      119.000000\n",
            "max     1000.000000\n",
            "mean     607.675397\n",
            "Name: Point Earned, dtype: float64\n",
            "\n",
            "Correlations:\n",
            "               CreditScore   Balance  Point Earned\n",
            "CreditScore      1.000000  0.006268      0.000077\n",
            "Balance          0.006268  1.000000      0.014608\n",
            "Point Earned     0.000077  0.014608      1.000000\n",
            "\n",
            "Balance and Transactions (Churned Customers):\n",
            " Balance         91109.476006\n",
            "Point Earned      604.448479\n",
            "dtype: float64\n",
            "\n",
            "Balance and Transactions (Retained Customers):\n",
            " Balance         72742.750663\n",
            "Point Earned      607.044084\n",
            "dtype: float64\n",
            "\n",
            "Probability of Low Credit Score & High Balance: 0.0638\n"
          ]
        }
      ],
      "source": [
        "import pandas as pd\n",
        "from scipy.stats import skew, kurtosis\n",
        "file_path = '/content/Bank-Customer-Attrition-Insights-Data.csv'\n",
        "df = pd.read_csv(file_path)\n",
        "key_vars = [\"Balance\", \"CreditScore\", \"Point Earned\"]\n",
        "summary_stats = df[key_vars].agg([\"mean\", \"median\", \"std\"]).T\n",
        "summary_stats[\"skewness\"] = df[key_vars].apply(skew)\n",
        "summary_stats[\"kurtosis\"] = df[key_vars].apply(kurtosis)\n",
        "gender_dist = df[\"Gender\"].value_counts(normalize=True) * 100\n",
        "geography_dist = df[\"Geography\"].value_counts(normalize=True) * 100\n",
        "age_dist = df[\"Age\"].describe()\n",
        "active_trans = df[df[\"IsActiveMember\"] == 1][\"Point Earned\"].agg([\"min\", \"max\", \"mean\"])\n",
        "inactive_trans = df[df[\"IsActiveMember\"] == 0][\"Point Earned\"].agg([\"min\", \"max\", \"mean\"])\n",
        "correlations = df[[\"CreditScore\", \"Balance\", \"Point Earned\"]].corr()\n",
        "churned_stats = df[df[\"Exited\"] == 1][[\"Balance\", \"Point Earned\"]].mean()\n",
        "retained_stats = df[df[\"Exited\"] == 0][[\"Balance\", \"Point Earned\"]].mean()\n",
        "low_credit_threshold = df[\"CreditScore\"].quantile(0.25)\n",
        "high_balance_threshold = df[\"Balance\"].quantile(0.75)\n",
        "prob_low_credit_high_balance = ((df[\"CreditScore\"] <= low_credit_threshold) &\n",
        "                                (df[\"Balance\"] >= high_balance_threshold)).mean()\n",
        "print(\"Summary Statistics:\\n\", summary_stats)\n",
        "print(\"\\nCustomer Distribution by Gender:\\n\", gender_dist)\n",
        "print(\"\\nCustomer Distribution by Geography:\\n\", geography_dist)\n",
        "print(\"\\nCustomer Age Distribution:\\n\", age_dist)\n",
        "print(\"\\nTransaction Counts for Active Customers:\\n\", active_trans)\n",
        "print(\"\\nTransaction Counts for Inactive Customers:\\n\", inactive_trans)\n",
        "print(\"\\nCorrelations:\\n\", correlations)\n",
        "print(\"\\nBalance and Transactions (Churned Customers):\\n\", churned_stats)\n",
        "print(\"\\nBalance and Transactions (Retained Customers):\\n\", retained_stats)\n",
        "print(\"\\nProbability of Low Credit Score & High Balance:\", prob_low_credit_high_balance)"
      ]
    }
  ]
}